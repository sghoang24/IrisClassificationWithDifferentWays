{
 "cells": [
  {
   "cell_type": "code",
   "execution_count": 1,
   "metadata": {
    "collapsed": true
   },
   "outputs": [],
   "source": [
    "import numpy as np\n",
    "import pandas as pd\n",
    "import tensorflow as tf\n",
    "import matplotlib.pyplot as plt\n",
    "import time\n",
    "from sklearn.metrics import classification_report\n",
    "from sklearn.model_selection import train_test_split"
   ]
  },
  {
   "cell_type": "code",
   "execution_count": 2,
   "outputs": [],
   "source": [
    "df = pd.read_csv('iris.csv')"
   ],
   "metadata": {
    "collapsed": false
   }
  },
  {
   "cell_type": "code",
   "execution_count": 3,
   "outputs": [
    {
     "data": {
      "text/plain": "   sepal.length  sepal.width  petal.length  petal.width variety\n0           5.1          3.5           1.4          0.2  Setosa\n1           4.9          3.0           1.4          0.2  Setosa\n2           4.7          3.2           1.3          0.2  Setosa\n3           4.6          3.1           1.5          0.2  Setosa\n4           5.0          3.6           1.4          0.2  Setosa",
      "text/html": "<div>\n<style scoped>\n    .dataframe tbody tr th:only-of-type {\n        vertical-align: middle;\n    }\n\n    .dataframe tbody tr th {\n        vertical-align: top;\n    }\n\n    .dataframe thead th {\n        text-align: right;\n    }\n</style>\n<table border=\"1\" class=\"dataframe\">\n  <thead>\n    <tr style=\"text-align: right;\">\n      <th></th>\n      <th>sepal.length</th>\n      <th>sepal.width</th>\n      <th>petal.length</th>\n      <th>petal.width</th>\n      <th>variety</th>\n    </tr>\n  </thead>\n  <tbody>\n    <tr>\n      <th>0</th>\n      <td>5.1</td>\n      <td>3.5</td>\n      <td>1.4</td>\n      <td>0.2</td>\n      <td>Setosa</td>\n    </tr>\n    <tr>\n      <th>1</th>\n      <td>4.9</td>\n      <td>3.0</td>\n      <td>1.4</td>\n      <td>0.2</td>\n      <td>Setosa</td>\n    </tr>\n    <tr>\n      <th>2</th>\n      <td>4.7</td>\n      <td>3.2</td>\n      <td>1.3</td>\n      <td>0.2</td>\n      <td>Setosa</td>\n    </tr>\n    <tr>\n      <th>3</th>\n      <td>4.6</td>\n      <td>3.1</td>\n      <td>1.5</td>\n      <td>0.2</td>\n      <td>Setosa</td>\n    </tr>\n    <tr>\n      <th>4</th>\n      <td>5.0</td>\n      <td>3.6</td>\n      <td>1.4</td>\n      <td>0.2</td>\n      <td>Setosa</td>\n    </tr>\n  </tbody>\n</table>\n</div>"
     },
     "execution_count": 3,
     "metadata": {},
     "output_type": "execute_result"
    }
   ],
   "source": [
    "df.head(5)"
   ],
   "metadata": {
    "collapsed": false
   }
  },
  {
   "cell_type": "code",
   "execution_count": 54,
   "outputs": [],
   "source": [
    "X = df.loc[:, ['sepal.length', 'sepal.width', 'petal.length', 'petal.width']].values\n",
    "y = pd.get_dummies(df.loc[:, 'variety']).values     # one hot encoding\n",
    "\n",
    "X = np.concatenate((np.ones((len(X), 1)), X), axis=1)\n",
    "\n",
    "\n",
    "# Normalize data\n",
    "X[:, 1:] = (X[:, 1:] - np.mean(X[:, 1:], axis=0)) / np.std(X[:, 1:], axis=0)\n",
    "n_features = X.shape[1]\n",
    "n_classes = y.shape[1]\n",
    "\n",
    "# split train & test\n",
    "x_train, x_test, y_train, y_test = train_test_split(X, y, test_size=0.2, random_state=42)"
   ],
   "metadata": {
    "collapsed": false
   }
  },
  {
   "cell_type": "code",
   "execution_count": 55,
   "outputs": [],
   "source": [
    "# Convert np.array to tensor\n",
    "x_train = tf.constant(x_train)\n",
    "x_test = tf.constant(x_test)\n",
    "y_train = tf.constant(y_train)\n",
    "y_test = tf.constant(y_test)"
   ],
   "metadata": {
    "collapsed": false
   }
  },
  {
   "cell_type": "code",
   "execution_count": 76,
   "outputs": [],
   "source": [
    "class SoftmaxRegression:\n",
    "    def __init__(self, n_features, n_classes, lr=0.1, epoch_max=1001):\n",
    "        self.n_features = n_features\n",
    "        self.n_classes = n_classes\n",
    "        self.lr = lr\n",
    "        self.epoch_max = epoch_max\n",
    "        self.losses = []\n",
    "\n",
    "    def loss_entropy(self, y_hat, y):\n",
    "        return tf.reduce_mean(tf.nn.softmax_cross_entropy_with_logits(labels=y, logits=y_hat))\n",
    "\n",
    "    def fit(self, X, y):\n",
    "        self.w = tf.Variable(np.random.randn(X.shape[1], self.n_classes), dtype=tf.float64)\n",
    "        self.b = tf.Variable(np.zeros(self.n_classes), dtype=tf.float64)\n",
    "        self.theta = tf.Variable(np.random.randn(X.shape[1], n_classes), dtype=tf.float64)\n",
    "\n",
    "        optimizer = tf.optimizers.Adam(learning_rate=self.lr)\n",
    "\n",
    "        for epoch in range(self.epoch_max):\n",
    "            with tf.GradientTape() as tape:\n",
    "                # y_hat = tf.math.softmax(X @ self.theta)\n",
    "                z = tf.matmul(X, self.w) + self.b\n",
    "                y_hat = tf.nn.softmax(z)\n",
    "                loss = self.loss_entropy(y_hat, y)\n",
    "                self.losses.append(loss)\n",
    "            gradients = tape.gradient(loss, [self.w, self.b])\n",
    "            optimizer.apply_gradients(zip(gradients, [self.w, self.b]))\n",
    "            # gradients = tape.gradient(loss, self.theta)\n",
    "            # optimizer.apply_gradients(zip(gradients, self.theta))\n",
    "\n",
    "            if epoch % 100 == 0:\n",
    "                print(f\"Epoch {epoch}: loss = {loss:.5f}\")\n",
    "\n",
    "    def predict(self, X):\n",
    "        z = tf.matmul(X, self.w) + self.b\n",
    "        y_hat = tf.nn.softmax(z)\n",
    "        return tf.argmax(y_hat, axis=1)\n",
    "\n",
    "    def test(self, x_test, y_test):\n",
    "        y_predict = self.predict(x_test)\n",
    "        accuracy_score = tf.reduce_mean(tf.cast(tf.equal(tf.argmax(y_test, axis=1), y_predict), tf.float32))\n",
    "        return accuracy_score\n",
    "\n",
    "    def plot_loss(self):\n",
    "        plt.plot(self.losses)\n",
    "        plt.ylabel(\"Losses\")\n",
    "        plt.xlabel(\"Epoch\")\n",
    "        plt.title(\"Loss\")\n",
    "        plt.show()"
   ],
   "metadata": {
    "collapsed": false
   }
  },
  {
   "cell_type": "code",
   "execution_count": 79,
   "outputs": [
    {
     "name": "stdout",
     "output_type": "stream",
     "text": [
      "Epoch 0: loss = 0.95618\n",
      "Epoch 100: loss = 0.58475\n",
      "Epoch 200: loss = 0.57920\n",
      "Epoch 300: loss = 0.57713\n",
      "Epoch 400: loss = 0.57598\n",
      "Epoch 500: loss = 0.57519\n",
      "Epoch 600: loss = 0.57460\n",
      "Epoch 700: loss = 0.57410\n",
      "Epoch 800: loss = 0.57367\n",
      "Epoch 900: loss = 0.57326\n",
      "Epoch 1000: loss = 0.57288\n",
      "=> Accuracy: 0.9917\n"
     ]
    },
    {
     "data": {
      "text/plain": "<Figure size 640x480 with 1 Axes>",
      "image/png": "[encoded data removed]"
     },
     "metadata": {},
     "output_type": "display_data"
    }
   ],
   "source": [
    "start_train = time.time()\n",
    "model = SoftmaxRegression(n_features, n_classes, lr=0.1, epoch_max=1001)\n",
    "model.fit(x_train, y_train)\n",
    "accuracy = model.test(x_train, y_train)\n",
    "end_train = time.time()\n",
    "\n",
    "print(f\"=> Accuracy: {accuracy:.4f}\")\n",
    "model.plot_loss()"
   ],
   "metadata": {
    "collapsed": false
   }
  },
  {
   "cell_type": "code",
   "execution_count": 78,
   "outputs": [
    {
     "name": "stdout",
     "output_type": "stream",
     "text": [
      "=> Accuracy: 1.0000\n",
      "- Training time: 10.871 (s)\n",
      "- Testing time: 0.003 (s)\n"
     ]
    }
   ],
   "source": [
    "start_test = time.time()\n",
    "accuracy = model.test(x_test, y_test)\n",
    "end_test = time.time()\n",
    "\n",
    "print(f\"=> Accuracy: {accuracy:.4f}\")\n",
    "print(f\"- Training time: {end_train - start_train:.3f} (s)\")\n",
    "print(f\"- Testing time: {end_test - start_test:.3f} (s)\")"
   ],
   "metadata": {
    "collapsed": false
   }
  },
  {
   "cell_type": "code",
   "execution_count": null,
   "outputs": [],
   "source": [],
   "metadata": {
    "collapsed": false
   }
  }
 ],
 "metadata": {
  "kernelspec": {
   "display_name": "Python 3",
   "language": "python",
   "name": "python3"
  },
  "language_info": {
   "codemirror_mode": {
    "name": "ipython",
    "version": 2
   },
   "file_extension": ".py",
   "mimetype": "text/x-python",
   "name": "python",
   "nbconvert_exporter": "python",
   "pygments_lexer": "ipython2",
   "version": "2.7.6"
  }
 },
 "nbformat": 4,
 "nbformat_minor": 0
}
