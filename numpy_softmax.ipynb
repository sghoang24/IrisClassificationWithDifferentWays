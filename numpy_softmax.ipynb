{
 "cells": [
  {
   "cell_type": "code",
   "execution_count": 54,
   "metadata": {
    "collapsed": true
   },
   "outputs": [],
   "source": [
    "import numpy as np\n",
    "import pandas as pd\n",
    "import matplotlib.pyplot as plt\n",
    "from numpy import genfromtxt\n",
    "import time\n",
    "from sklearn.model_selection import train_test_split"
   ]
  },
  {
   "cell_type": "code",
   "execution_count": 129,
   "outputs": [],
   "source": [
    "def read_data():\n",
    "    # Numpy\n",
    "    data = genfromtxt('iris.csv', delimiter=',', skip_header=True, dtype='str')\n",
    "    classes_name = data[:,-1]\n",
    "    x = data[:,:-1].astype('float')\n",
    "    y = classes_name\n",
    "    c = np.unique(classes_name)\n",
    "    return x, y, c"
   ],
   "metadata": {
    "collapsed": false
   }
  },
  {
   "cell_type": "code",
   "execution_count": 130,
   "outputs": [],
   "source": [
    "def one_hot(y, k):\n",
    "    y_hot = np.zeros((len(y), k))\n",
    "    y_hot[np.arange(len(y)), y] = 1\n",
    "    return y_hot"
   ],
   "metadata": {
    "collapsed": false
   }
  },
  {
   "cell_type": "code",
   "execution_count": 132,
   "outputs": [
    {
     "name": "stdout",
     "output_type": "stream",
     "text": [
      "Classes: ['\"Setosa\"' '\"Versicolor\"' '\"Virginica\"']\n",
      "(120, 5) (120, 3)\n"
     ]
    }
   ],
   "source": [
    "X, y, classes = read_data()\n",
    "n_features = X.shape[1]\n",
    "n_classes = classes.shape[0]\n",
    "\n",
    "Y = []\n",
    "for i in range(n_classes):\n",
    "    for item in y:\n",
    "        if item == classes[i]:\n",
    "            Y.append(i)\n",
    "print(\"Classes:\", np.unique(classes))\n",
    "\n",
    "# Normalize\n",
    "X[:, :] = (X[:, :] - np.mean(X[:, :], axis=0))/np.std(X[:, :], axis=0)\n",
    "\n",
    "X = np.concatenate((X, np.ones((X.shape[0], 1))), axis=1)\n",
    "y_one_hot = one_hot(Y, n_classes)\n",
    "\n",
    "# Split train & test dât\n",
    "x_train, x_test, y_train, y_test = train_test_split(X, y_one_hot, test_size=0.2)\n",
    "print(x_train.shape, y_train.shape)"
   ],
   "metadata": {
    "collapsed": false
   }
  },
  {
   "cell_type": "code",
   "execution_count": 133,
   "outputs": [],
   "source": [
    "class SoftmaxRegression:\n",
    "    def __init__(self, n_features, n_classes, lr=0.1, epoch_max=1001, theta=None, batch_size=180):\n",
    "        self.n_features = n_features\n",
    "        self.n_classes = n_classes\n",
    "        self.lr = lr\n",
    "        self.epoch_max = epoch_max\n",
    "        self.batch_size = batch_size\n",
    "        self.theta = theta\n",
    "        self.losses = []\n",
    "\n",
    "    def softmax(self, z):\n",
    "        exp_z = np.exp(z)\n",
    "        return exp_z / np.sum(exp_z, axis=1, keepdims=True)\n",
    "\n",
    "    def loss(self, h, y):\n",
    "        return -np.mean(np.sum(y * np.log(h + 1e-9), axis=1))\n",
    "\n",
    "    def fit(self, X, y):\n",
    "        self.batch_size = X.shape[0]\n",
    "\n",
    "        if self.theta is None:\n",
    "            self.theta = np.random.randn(X.shape[1], n_classes)\n",
    "\n",
    "        for epoch in range(self.epoch_max):\n",
    "            mix_idx = np.random.permutation(X.shape[0])\n",
    "            x_batch = X[mix_idx, :]\n",
    "            y_batch = y[mix_idx, :]\n",
    "\n",
    "            z = x_batch @ self.theta\n",
    "            y_hat = self.softmax(z)\n",
    "            gradient = x_batch.T @ (y_hat - y_batch) / self.batch_size\n",
    "            self.theta = self.theta - self.lr * gradient\n",
    "\n",
    "            loss = self.loss(y_hat, y_batch)\n",
    "            self.losses.append(loss)\n",
    "\n",
    "            if epoch % 100 == 0:\n",
    "                print(f\"Epoch {epoch}: loss = {loss:.5f}\")\n",
    "\n",
    "    def predict(self, x):\n",
    "        z = x.dot(self.theta)\n",
    "        y_hat = self.softmax(z)\n",
    "        return np.argmax(y_hat, axis=1)\n",
    "\n",
    "    def test(self, x_test, y_test):\n",
    "        y_predict = self.predict(x_test)\n",
    "        accuracy_score = np.mean(y_predict == np.argmax(y_test, axis=1))\n",
    "        return accuracy_score\n",
    "\n",
    "    def plot_loss(self):\n",
    "        plt.plot(self.losses)\n",
    "        plt.ylabel(\"Losses\")\n",
    "        plt.xlabel(\"Epoch\")\n",
    "        plt.title(\"Loss\")\n",
    "        plt.show()"
   ],
   "metadata": {
    "collapsed": false
   }
  },
  {
   "cell_type": "code",
   "execution_count": 136,
   "outputs": [
    {
     "name": "stdout",
     "output_type": "stream",
     "text": [
      "Epoch 0: loss = 1.97091\n",
      "Epoch 100: loss = 0.30243\n",
      "Epoch 200: loss = 0.23516\n",
      "Epoch 300: loss = 0.20044\n",
      "Epoch 400: loss = 0.17719\n",
      "Epoch 500: loss = 0.16032\n",
      "Epoch 600: loss = 0.14747\n",
      "Epoch 700: loss = 0.13734\n",
      "Epoch 800: loss = 0.12913\n",
      "Epoch 900: loss = 0.12234\n",
      "Epoch 1000: loss = 0.11661\n",
      "=> Accuracy: 0.9667\n"
     ]
    },
    {
     "data": {
      "text/plain": "<Figure size 640x480 with 1 Axes>",
      "image/png": "[encoded data removed]"
     },
     "metadata": {},
     "output_type": "display_data"
    }
   ],
   "source": [
    "start_train = time.time()\n",
    "model = SoftmaxRegression(n_features, n_classes, lr=0.1, epoch_max=1001)\n",
    "model.fit(x_train, y_train)\n",
    "accuracy = model.test(x_train, y_train)\n",
    "end_train = time.time()\n",
    "\n",
    "print(f\"=> Accuracy: {accuracy:.4f}\")\n",
    "model.plot_loss()"
   ],
   "metadata": {
    "collapsed": false
   }
  },
  {
   "cell_type": "code",
   "execution_count": 135,
   "outputs": [
    {
     "name": "stdout",
     "output_type": "stream",
     "text": [
      "=> Accuracy: 1.0000\n",
      "- Training time: 0.138 (s)\n",
      "- Testing time: 0.000 (s)\n"
     ]
    }
   ],
   "source": [
    "start_test = time.time()\n",
    "accuracy = model.test(x_test, y_test)\n",
    "end_test = time.time()\n",
    "\n",
    "print(f\"=> Accuracy: {accuracy:.4f}\")\n",
    "print(f\"- Training time: {end_train - start_train:.3f} (s)\")\n",
    "print(f\"- Testing time: {end_test - start_test:.3f} (s)\")"
   ],
   "metadata": {
    "collapsed": false
   }
  },
  {
   "cell_type": "code",
   "execution_count": 120,
   "outputs": [],
   "source": [],
   "metadata": {
    "collapsed": false
   }
  }
 ],
 "metadata": {
  "kernelspec": {
   "display_name": "Python 3",
   "language": "python",
   "name": "python3"
  },
  "language_info": {
   "codemirror_mode": {
    "name": "ipython",
    "version": 2
   },
   "file_extension": ".py",
   "mimetype": "text/x-python",
   "name": "python",
   "nbconvert_exporter": "python",
   "pygments_lexer": "ipython2",
   "version": "2.7.6"
  }
 },
 "nbformat": 4,
 "nbformat_minor": 0
}
