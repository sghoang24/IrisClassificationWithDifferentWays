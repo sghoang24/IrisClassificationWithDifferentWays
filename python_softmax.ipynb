{
 "cells": [
  {
   "cell_type": "code",
   "execution_count": 14,
   "metadata": {
    "collapsed": true
   },
   "outputs": [],
   "source": [
    "import pandas as pd\n",
    "import numpy as np\n",
    "import matplotlib.pyplot as plt\n",
    "import math\n",
    "from sklearn.model_selection import train_test_split\n",
    "from sklearn.metrics import classification_report\n",
    "import time"
   ]
  },
  {
   "cell_type": "code",
   "execution_count": 3,
   "outputs": [],
   "source": [
    "df = pd.read_csv('iris.csv')"
   ],
   "metadata": {
    "collapsed": false
   }
  },
  {
   "cell_type": "code",
   "execution_count": 4,
   "outputs": [
    {
     "data": {
      "text/plain": "   sepal.length  sepal.width  petal.length  petal.width variety\n0           5.1          3.5           1.4          0.2  Setosa\n1           4.9          3.0           1.4          0.2  Setosa\n2           4.7          3.2           1.3          0.2  Setosa\n3           4.6          3.1           1.5          0.2  Setosa\n4           5.0          3.6           1.4          0.2  Setosa",
      "text/html": "<div>\n<style scoped>\n    .dataframe tbody tr th:only-of-type {\n        vertical-align: middle;\n    }\n\n    .dataframe tbody tr th {\n        vertical-align: top;\n    }\n\n    .dataframe thead th {\n        text-align: right;\n    }\n</style>\n<table border=\"1\" class=\"dataframe\">\n  <thead>\n    <tr style=\"text-align: right;\">\n      <th></th>\n      <th>sepal.length</th>\n      <th>sepal.width</th>\n      <th>petal.length</th>\n      <th>petal.width</th>\n      <th>variety</th>\n    </tr>\n  </thead>\n  <tbody>\n    <tr>\n      <th>0</th>\n      <td>5.1</td>\n      <td>3.5</td>\n      <td>1.4</td>\n      <td>0.2</td>\n      <td>Setosa</td>\n    </tr>\n    <tr>\n      <th>1</th>\n      <td>4.9</td>\n      <td>3.0</td>\n      <td>1.4</td>\n      <td>0.2</td>\n      <td>Setosa</td>\n    </tr>\n    <tr>\n      <th>2</th>\n      <td>4.7</td>\n      <td>3.2</td>\n      <td>1.3</td>\n      <td>0.2</td>\n      <td>Setosa</td>\n    </tr>\n    <tr>\n      <th>3</th>\n      <td>4.6</td>\n      <td>3.1</td>\n      <td>1.5</td>\n      <td>0.2</td>\n      <td>Setosa</td>\n    </tr>\n    <tr>\n      <th>4</th>\n      <td>5.0</td>\n      <td>3.6</td>\n      <td>1.4</td>\n      <td>0.2</td>\n      <td>Setosa</td>\n    </tr>\n  </tbody>\n</table>\n</div>"
     },
     "execution_count": 4,
     "metadata": {},
     "output_type": "execute_result"
    }
   ],
   "source": [
    "df.head(5)"
   ],
   "metadata": {
    "collapsed": false
   }
  },
  {
   "cell_type": "code",
   "execution_count": 56,
   "outputs": [
    {
     "name": "stdout",
     "output_type": "stream",
     "text": [
      "features: 5, classes: 3\n"
     ]
    }
   ],
   "source": [
    "X = df.loc[:, ['sepal.length', 'sepal.width', 'petal.length', 'petal.width']].values.tolist()\n",
    "y = pd.get_dummies(df.loc[:, 'variety']).values.tolist()      # one hot encoding\n",
    "\n",
    "# mean of each feature\n",
    "means = []\n",
    "for col in range(len(X[0])):\n",
    "    temp = 0\n",
    "    for row in range(len(X)):\n",
    "        temp += X[row][col]\n",
    "    temp /= len(X)\n",
    "    means.append(temp)\n",
    "\n",
    "# std of each feature\n",
    "stds = []\n",
    "for col in range(len(X[0])):\n",
    "    sum_mean_square = 0\n",
    "    for row in range(len(X)):\n",
    "        sum_mean_square += (X[row][col] - means[col]) ** 2\n",
    "    sum_mean_square /= len(X)\n",
    "    stds.append(math.sqrt(sum_mean_square))\n",
    "\n",
    "# Normalize data\n",
    "for row in range(len(X)):\n",
    "    for col in range(len(X[0])):\n",
    "        X[row][col] = (X[row][col] - means[col]) / stds[col]\n",
    "\n",
    "# Add bias\n",
    "X = [[1.] + x for x in X]\n",
    "\n",
    "# Split train and test data\n",
    "x_train, x_test, y_train, y_test = train_test_split(X, y, test_size=0.2, random_state=42)\n",
    "\n",
    "# Get n_features & n_classes\n",
    "n_features = len(X[0])\n",
    "n_classes = len(y[0])\n",
    "print(f\"features: {n_features}, classes: {n_classes}\")"
   ],
   "metadata": {
    "collapsed": false
   }
  },
  {
   "cell_type": "code",
   "execution_count": 57,
   "outputs": [],
   "source": [
    "def softmax(z):\n",
    "    exp_z = [math.exp(i) for i in z]\n",
    "    sum_exp_z = sum(exp_z)\n",
    "    return [i / sum_exp_z for i in exp_z]\n",
    "\n",
    "def loss_entropy(y_hat, y):\n",
    "    row = len(y); col = len(y[0])\n",
    "    loss = sum([sum([-y[i][j] * math.log(y_hat[i][j] + 1e-9) for j in range(col)]) for i in range(row)]) / row\n",
    "    return loss\n",
    "\n",
    "# def dot(x, y):\n",
    "#     result = [[0 for _ in range(len(y[0]))] for _ in range(len(x))]\n",
    "#     for row in range(len(x)):\n",
    "#         for col in range(len(y[0])):\n",
    "#             for k in range(len(y)):\n",
    "#                 result[row][col] += x[row][k] * y[k][col]\n",
    "#     return result\n",
    "\n",
    "def dot(X, Y):\n",
    "    return [[sum(a * b for a, b in zip(row, col)) for col in zip(*Y)] for row in X]\n",
    "\n",
    "def scalar_mul(scalar, X, one_dim = False):\n",
    "    if one_dim:\n",
    "        return [scalar * x for x in X]\n",
    "    return [[scalar * t for t in x] for x in X]\n",
    "\n",
    "def add(x, y, one_dim = False):\n",
    "    if one_dim:\n",
    "        return [x[i] + y[i] for i in range(len(x))]\n",
    "    return [[x[row][col] + y[row][col] for col in range(len(x[0]))] for row in range(len(x))]\n",
    "\n",
    "def sub(x, y, one_dim = False):\n",
    "    if one_dim:\n",
    "        return [x[i] - y[i] for i in range(len(x))]\n",
    "    return [[x[row][col] - y[row][col] for col in range(len(x[0]))] for row in range(len(x))]\n",
    "\n",
    "def transpose(x):\n",
    "    return [[x[row][col] for row in range(len(x))] for col in range(len(x[0]))]\n",
    "\n",
    "def argmax(x):\n",
    "    index = 0\n",
    "    max_val = x[0]\n",
    "    for idx, value in enumerate(x):\n",
    "        if value >= max_val:\n",
    "            max_val = value\n",
    "            index = idx\n",
    "    return index"
   ],
   "metadata": {
    "collapsed": false
   }
  },
  {
   "cell_type": "code",
   "execution_count": 87,
   "outputs": [],
   "source": [
    "class SoftmaxRegression:\n",
    "    def __init__(self, n_features, n_classes, lr=0.1, epoch_max=1001):\n",
    "        self.n_features = n_features\n",
    "        self.n_classes = n_classes\n",
    "        self.lr = lr\n",
    "        self.epoch_max = epoch_max\n",
    "        self.losses = []\n",
    "\n",
    "    def fit(self, X, y):\n",
    "        self.w = [[0. ] * self.n_classes for _ in range(self.n_features)]\n",
    "        self.b = [0.] * self.n_classes\n",
    "\n",
    "        for epoch in range(self.epoch_max):\n",
    "            # calculate\n",
    "            zs = dot(X, self.w)\n",
    "            zs = [[zs[i][j] + self.b[j] for j in range(len(zs[0]))] for i in range(len(zs))]\n",
    "            y_hat = [softmax(z) for z in zs]\n",
    "\n",
    "            # calculate loss\n",
    "            loss = loss_entropy(y_hat, y)\n",
    "            self.losses.append(loss)\n",
    "\n",
    "            # gradient\n",
    "            gradient_z = sub(y_hat, y)\n",
    "            grad_w = dot(transpose(X), gradient_z)\n",
    "            grad_b = [sum(grad_z) for grad_z in gradient_z]\n",
    "\n",
    "            # update weights and bias\n",
    "            self.w = sub(self.w, scalar_mul(self.lr, grad_w))\n",
    "            self.b = sub(self.b, scalar_mul(self.lr, grad_b, True), one_dim=True)\n",
    "\n",
    "            if epoch % 100 == 0:\n",
    "                print(f\"Epoch {epoch}: loss = {loss:.5f}\")\n",
    "\n",
    "    def predict(self, X):\n",
    "        zs = dot(X, self.w)\n",
    "        zs = [[zs[i][j] + self.b[j] for j in range(len(zs[0]))] for i in range(len(zs))]\n",
    "        y_hat = [softmax(z) for z in zs]\n",
    "        return [argmax(y_hat[row]) for row in range(len(y_hat))]\n",
    "\n",
    "    def cal_accuracy(self, y_hat, y):\n",
    "        return sum(y[row] == y_hat[row] for row in range(len(y))) / len(y)\n",
    "\n",
    "    def test(self, x_test, y_test):\n",
    "        y_predict = self.predict(x_test)\n",
    "        y = [argmax(row) for row in y_test]\n",
    "        accuracy_score = self.cal_accuracy(y_predict, y)\n",
    "        return accuracy_score\n",
    "\n",
    "    def plot_loss(self):\n",
    "        plt.plot(self.losses)\n",
    "        plt.ylabel(\"Losses\")\n",
    "        plt.xlabel(\"Epoch\")\n",
    "        plt.title(\"Loss\")\n",
    "        plt.show()"
   ],
   "metadata": {
    "collapsed": false
   }
  },
  {
   "cell_type": "code",
   "execution_count": 90,
   "outputs": [
    {
     "name": "stdout",
     "output_type": "stream",
     "text": [
      "Epoch 0: loss = 1.09861\n",
      "Epoch 100: loss = 0.05222\n",
      "Epoch 200: loss = 0.04962\n",
      "Epoch 300: loss = 0.04854\n",
      "Epoch 400: loss = 0.04796\n",
      "Epoch 500: loss = 0.04761\n",
      "Epoch 600: loss = 0.04737\n",
      "Epoch 700: loss = 0.04721\n",
      "Epoch 800: loss = 0.04709\n",
      "Epoch 900: loss = 0.04700\n",
      "Epoch 1000: loss = 0.04693\n",
      "=> Accuracy: 0.9833\n"
     ]
    },
    {
     "data": {
      "text/plain": "<Figure size 640x480 with 1 Axes>",
      "image/png": "[encoded data removed]"
     },
     "metadata": {},
     "output_type": "display_data"
    }
   ],
   "source": [
    "start_train = time.time()\n",
    "model = SoftmaxRegression(n_features, n_classes, lr=0.1, epoch_max=1001)\n",
    "model.fit(x_train, y_train)\n",
    "accuracy = model.test(x_train, y_train)\n",
    "end_train = time.time()\n",
    "\n",
    "print(f\"=> Accuracy: {accuracy:.4f}\")\n",
    "model.plot_loss()"
   ],
   "metadata": {
    "collapsed": false
   }
  },
  {
   "cell_type": "code",
   "execution_count": 89,
   "outputs": [
    {
     "name": "stdout",
     "output_type": "stream",
     "text": [
      "=> Accuracy: 1.0000\n",
      "- Training time: 4.319 (s)\n",
      "- Testing time: 0.000 (s)\n"
     ]
    }
   ],
   "source": [
    "start_test = time.time()\n",
    "accuracy = model.test(x_test, y_test)\n",
    "end_test = time.time()\n",
    "\n",
    "print(f\"=> Accuracy: {accuracy:.4f}\")\n",
    "print(f\"- Training time: {end_train - start_train:.3f} (s)\")\n",
    "print(f\"- Testing time: {end_test - start_test:.3f} (s)\")"
   ],
   "metadata": {
    "collapsed": false
   }
  },
  {
   "cell_type": "code",
   "execution_count": null,
   "outputs": [],
   "source": [],
   "metadata": {
    "collapsed": false
   }
  }
 ],
 "metadata": {
  "kernelspec": {
   "display_name": "Python 3",
   "language": "python",
   "name": "python3"
  },
  "language_info": {
   "codemirror_mode": {
    "name": "ipython",
    "version": 2
   },
   "file_extension": ".py",
   "mimetype": "text/x-python",
   "name": "python",
   "nbconvert_exporter": "python",
   "pygments_lexer": "ipython2",
   "version": "2.7.6"
  }
 },
 "nbformat": 4,
 "nbformat_minor": 0
}
